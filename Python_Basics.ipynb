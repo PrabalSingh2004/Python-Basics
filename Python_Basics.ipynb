{
  "nbformat": 4,
  "nbformat_minor": 0,
  "metadata": {
    "colab": {
      "provenance": []
    },
    "kernelspec": {
      "name": "python3",
      "display_name": "Python 3"
    },
    "language_info": {
      "name": "python"
    }
  },
  "cells": [
    {
      "cell_type": "code",
      "execution_count": null,
      "metadata": {
        "id": "0v34VyfJHFiw"
      },
      "outputs": [],
      "source": []
    },
    {
      "cell_type": "markdown",
      "source": [],
      "metadata": {
        "id": "mVJOOQHpHH-8"
      }
    },
    {
      "cell_type": "markdown",
      "source": [
        "#Python Basics\n",
        "\n"
      ],
      "metadata": {
        "id": "_Rr7argFHJu8"
      }
    },
    {
      "cell_type": "markdown",
      "source": [],
      "metadata": {
        "id": "LL8aP8hZHPwr"
      }
    },
    {
      "cell_type": "markdown",
      "source": [
        "1.  What is Python, and why is it popular?\n",
        "\n",
        "->  Python is a high level programming languages, known for its simple syntax and readability. It is popular because of extensive libraries\n",
        "\n",
        "\n",
        "2.  What is an interpreter in Python?\n",
        "\n",
        "->  An interpreter is a program that executes Python code line by line, converting it into machine-readable instructions.\n",
        "\n",
        "\n",
        "3.  What are pre-defined keywords in Python?\n",
        "\n",
        "->  Pre-defined are the special keywords that are use for commands and structure. We can't use them as a name in a variable or function. Ex: If, while, elif.\n",
        "\n",
        "\n",
        "4.  Can keywords be used as variable names?\n",
        "\n",
        "->  No, keywords cannot be used as variable names.\n",
        "\n",
        "\n",
        "5.  What is mutability in Python?\n",
        "\n",
        "-> Mutability means wheather an object changed affter it's created. It is of two types Mutable and Immutable. Mutable object can we changed but Immutable cannot be changed.\n",
        "\n",
        "\n",
        "6. Why are lists mutable, but tuples are immutable?\n",
        "\n",
        "-> Lists are mutable because they are designed to store collections of items that can change over time (like adding or removing elements). Tuples are immutable to ensure the data remains constant and unaltered, making them useful for fixed collections where data integrity is important.\n",
        "\n",
        "\n",
        "7. What is the difference between “==” and “is” operators in Python?\n",
        "\n",
        "-> The \"==\" operator check if the values of two object is same or not but \"is\" operator checks if the two objects are the same memory or not.\n",
        "\n",
        "\n",
        "8. What are logical operators in Python?\n",
        "\n",
        "-> In python we have 3 logical operators.\n",
        "First one is \"And\" operator, it returns True if both statement is True. Second one is \"Or\" operation it return True if atleast one condition is True. Third one is \"Not\" reverses the truth value of a condition.\n",
        "\n",
        "\n",
        "9. What is type casting in Python?\n",
        "\n",
        "-> Type casting refers to change one of one data type into another.\n",
        "\n",
        "\n",
        "10.  What is the difference between implicit and explicit type casting?\n",
        "\n",
        "-> Implicit type casting occurs automatically when Python converts one data type to another e.g., int to float without any intervention. Explicit type casting requires the programmer to manually convert between data types using functions like int(), float(), or str().\n",
        "\n",
        "\n",
        "11. What is the purpose of conditional statements in Python?\n",
        "\n",
        "-> The purpose of conditional statements is to make decision on certain conditions. They execute the code depending on wheather condition is True or False.\n",
        "\n",
        "\n",
        "12. How does the elif statement work?\n",
        "\n",
        "-> The elif statements allows you  to check multiple statement after the \"if\". If the \"if\" statement is false then it check each elif statement. It checks each elif condition in sequence until one is True, or the else block executes.\n",
        "\n",
        "\n",
        "13. What is the difference between for and while loops?\n",
        "\n",
        "-> A for loop iterates over a sequence or range, executing a block of code a fixed number of times. A while loop continues executing as long as a condition remains True, and the number of iterations depends on the condition being met.\n",
        "\n",
        "14. Describe a scenario where a while loop is more suitable than a for loop.\n",
        "\n",
        "-> A while loop is more suitable when you don't know the number of iterations in advance and the loop should continue until a specific condition is met.\n",
        "\n",
        "\n"
      ],
      "metadata": {
        "id": "yAnT7wZJJWHn"
      }
    },
    {
      "cell_type": "markdown",
      "source": [],
      "metadata": {
        "id": "3gw76jAu1j3a"
      }
    },
    {
      "cell_type": "markdown",
      "source": [
        "# Practical Questions\n"
      ],
      "metadata": {
        "id": "wgyS8IGFRXsX"
      }
    },
    {
      "cell_type": "code",
      "source": [
        "\n",
        "#1. Write a Python program to print \"Hello, World!_\n",
        "print(\"Hello, World\")\n"
      ],
      "metadata": {
        "colab": {
          "base_uri": "https://localhost:8080/"
        },
        "id": "J72hkb5BQOE9",
        "outputId": "5bec46cc-5576-48ac-ce89-b935a1ad8c69"
      },
      "execution_count": 1,
      "outputs": [
        {
          "output_type": "stream",
          "name": "stdout",
          "text": [
            "Hello, World\n"
          ]
        }
      ]
    },
    {
      "cell_type": "code",
      "source": [
        "#2. Write a Python program that displays your name and age.\n",
        "print(\"Prabal Singh\")\n",
        "print(\"20\")"
      ],
      "metadata": {
        "colab": {
          "base_uri": "https://localhost:8080/"
        },
        "id": "fWdRndYIQfvm",
        "outputId": "daa2c80a-c465-44b4-cdb9-3922554c59ad"
      },
      "execution_count": 2,
      "outputs": [
        {
          "output_type": "stream",
          "name": "stdout",
          "text": [
            "Prabal Singh\n",
            "20\n"
          ]
        }
      ]
    },
    {
      "cell_type": "code",
      "source": [
        "#3. Write code to print all the pre-defined keywords in Python using the keyword library.\n",
        "import keyword\n",
        "print(keyword.kwlist)\n"
      ],
      "metadata": {
        "colab": {
          "base_uri": "https://localhost:8080/"
        },
        "id": "teSThTTYQxcC",
        "outputId": "af35dbe6-1141-418b-d5cb-0e26c8ad4e77"
      },
      "execution_count": 1,
      "outputs": [
        {
          "output_type": "stream",
          "name": "stdout",
          "text": [
            "['False', 'None', 'True', 'and', 'as', 'assert', 'async', 'await', 'break', 'class', 'continue', 'def', 'del', 'elif', 'else', 'except', 'finally', 'for', 'from', 'global', 'if', 'import', 'in', 'is', 'lambda', 'nonlocal', 'not', 'or', 'pass', 'raise', 'return', 'try', 'while', 'with', 'yield']\n"
          ]
        }
      ]
    },
    {
      "cell_type": "code",
      "source": [
        "#4. Write a program that checks if a given word is a Python keyword.\n",
        "import keyword\n",
        "\n",
        "word = input(\"Enter a word to check: \")\n",
        "\n",
        "if keyword.iskeyword(word):\n",
        "    print(f\"'{word}' is a Python keyword.\")\n",
        "else:\n",
        "    print(f\"'{word}' is not a Python keyword.\")\n"
      ],
      "metadata": {
        "colab": {
          "base_uri": "https://localhost:8080/"
        },
        "id": "B7XLEywsSB01",
        "outputId": "46002083-5c36-4e97-c4e1-d323ccb4a122"
      },
      "execution_count": 3,
      "outputs": [
        {
          "output_type": "stream",
          "name": "stdout",
          "text": [
            "Enter a word to check: False\n",
            "'False' is a Python keyword.\n"
          ]
        }
      ]
    },
    {
      "cell_type": "code",
      "source": [
        "#5. Create a list and tuple in Python, and demonstrate how attempting to change an element works differently for each.\n",
        "my_list = [1, 2, 3]\n",
        "my_tuple = (1, 2, 3)\n",
        "\n",
        "print(\"Original list:\", my_list)\n",
        "my_list[1] = 42\n",
        "print(\"Modified list:\", my_list)\n",
        "\n",
        "print(\"\\nOriginal tuple:\", my_tuple)\n",
        "\n",
        "#Uncomment the next line to see the error\n",
        " #my_tuple[1] = 42\n",
        "\n"
      ],
      "metadata": {
        "colab": {
          "base_uri": "https://localhost:8080/"
        },
        "id": "kCukkMsYSDGq",
        "outputId": "2ca974c8-d8b6-406a-8abb-3ae4ff0af8ef"
      },
      "execution_count": 7,
      "outputs": [
        {
          "output_type": "stream",
          "name": "stdout",
          "text": [
            "Original list: [1, 2, 3]\n",
            "Modified list: [1, 42, 3]\n",
            "\n",
            "Original tuple: (1, 2, 3)\n"
          ]
        }
      ]
    },
    {
      "cell_type": "code",
      "source": [
        "#6. Write a function to demonstrate the behavior of mutable and immutable arguments.\n",
        "def demonstrate_arguments(mutable_arg, immutable_arg):\n",
        "    mutable_arg.append(100)\n",
        "    immutable_arg += 10\n",
        "\n",
        "my_list = [1, 2, 3]\n",
        "my_number = 50\n",
        "\n",
        "print(\"Before function call:\")\n",
        "print(\"Mutable argument (list):\", my_list)\n",
        "print(\"Immutable argument (integer):\", my_number)\n",
        "\n",
        "demonstrate_arguments(my_list, my_number)\n",
        "\n",
        "print(\"\\nAfter function call:\")\n",
        "print(\"Mutable argument (list):\", my_list)\n",
        "print(\"Immutable argument (integer):\", my_number)\n"
      ],
      "metadata": {
        "id": "9ncN8rPaYaiC"
      },
      "execution_count": null,
      "outputs": []
    },
    {
      "cell_type": "markdown",
      "source": [],
      "metadata": {
        "id": "PXbj03_AKGKM"
      }
    },
    {
      "cell_type": "code",
      "source": [
        "#7.  Write a function to demonstrate the behavior of mutable and immutable arguments.\n",
        "def demonstrate_arguments(mutable_arg, immutable_arg):\n",
        "    mutable_arg.append(100)\n",
        "    immutable_arg += 10\n",
        "\n",
        "my_list = [1, 2, 3]\n",
        "my_number = 50\n",
        "\n",
        "print(\"Before function call:\")\n",
        "print(\"Mutable argument (list):\", my_list)\n",
        "print(\"Immutable argument (integer):\", my_number)\n",
        "\n",
        "demonstrate_arguments(my_list, my_number)\n",
        "\n",
        "print(\"\\nAfter function call:\")\n",
        "print(\"Mutable argument (list):\", my_list)\n",
        "print(\"Immutable argument (integer):\", my_number)"
      ],
      "metadata": {
        "id": "OVAoYqoKZLLO"
      },
      "execution_count": null,
      "outputs": []
    },
    {
      "cell_type": "code",
      "source": [
        "#8. Write a program to demonstrate the use of logical operators.\n",
        "num1=int(input(\"Enter first number:\"))\n",
        "num2=int(input(\"Enter second number\"))\n",
        "if num1 > 0 and num2 > 0:\n",
        "    print(\"Both numbers are positive.\")\n",
        "\n",
        "\n",
        "elif num1 > 0 or num2 > 0:\n",
        "    print(\"At least one number is positive.\")\n",
        "\n",
        "\n",
        "elif not (num1 < 0 or num2 < 0):\n",
        "    print(\"Neither number is negative.\")\n",
        "\n"
      ],
      "metadata": {
        "colab": {
          "base_uri": "https://localhost:8080/"
        },
        "id": "XOMv7URcZdzW",
        "outputId": "aa214ab4-39ea-4eb0-a68a-fbb8eb98e36c"
      },
      "execution_count": 9,
      "outputs": [
        {
          "output_type": "stream",
          "name": "stdout",
          "text": [
            "Enter first number:9\n",
            "Enter second number-8\n",
            "At least one number is positive.\n"
          ]
        }
      ]
    },
    {
      "cell_type": "code",
      "source": [
        "#9. Write a Python program to convert user input from string to integer, float, and boolean types.\n",
        "user_input = input(\"Enter a value: \")\n",
        "\n",
        "integer_value = int(user_input)\n",
        "print(\"Converted to integer:\", integer_value)\n",
        "\n",
        "float_value = float(user_input)\n",
        "print(\"Converted to float:\", float_value)\n",
        "\n",
        "boolean_value = bool(user_input)\n",
        "print(\"Converted to boolean:\", boolean_value)\n"
      ],
      "metadata": {
        "id": "N0cN46TTrDPM"
      },
      "execution_count": null,
      "outputs": []
    },
    {
      "cell_type": "code",
      "source": [
        "#10. Write code to demonstrate type casting with list elements.\n",
        "string_list = [\"1\", \"2\", \"3\", \"4.5\", \"5.6\"]\n",
        "\n",
        "int_list = [int(float(item)) for item in string_list]\n",
        "print(\"Converted to integers:\", int_list)\n",
        "\n",
        "float_list = [float(item) for item in string_list]\n",
        "print(\"Converted to floats:\", float_list)\n",
        "\n",
        "bool_list = [bool(item) for item in string_list]\n",
        "print(\"Converted to booleans:\", bool_list)\n"
      ],
      "metadata": {
        "id": "BUcNQMdCrSuh"
      },
      "execution_count": null,
      "outputs": []
    },
    {
      "cell_type": "code",
      "source": [
        "#11.  Write a program that checks if a number is positive, negative, or zero0\n",
        "\n",
        "\n",
        "number = float(input(\"Enter a number: \"))\n",
        "\n",
        "if number > 0:\n",
        "    print(\"The number is positive.\")\n",
        "elif number < 0:\n",
        "    print(\"The number is negative.\")\n",
        "else:\n",
        "    print(\"The number is zero.\")\n"
      ],
      "metadata": {
        "id": "d26gn3ayrn4o"
      },
      "execution_count": null,
      "outputs": []
    },
    {
      "cell_type": "code",
      "source": [
        "#12. Write a for loop to print numbers from 1 to 10.\n",
        "for n in range(1,11):\n",
        "  print(n)"
      ],
      "metadata": {
        "colab": {
          "base_uri": "https://localhost:8080/"
        },
        "id": "PEaRv2VnrzhA",
        "outputId": "7fc195a7-0e4d-414f-ec31-9f4645fd617a"
      },
      "execution_count": 11,
      "outputs": [
        {
          "output_type": "stream",
          "name": "stdout",
          "text": [
            "1\n",
            "2\n",
            "3\n",
            "4\n",
            "5\n",
            "6\n",
            "7\n",
            "8\n",
            "9\n",
            "10\n"
          ]
        }
      ]
    },
    {
      "cell_type": "code",
      "source": [
        "#13. Write a Python program to find the sum of all even numbers between 1 and 50\n",
        "even_sum = 0\n",
        "\n",
        "for number in range(2, 51, 2):\n",
        "    even_sum += number\n",
        "\n",
        "print(\"The sum of all even numbers between 1 and 50 is:\", even_sum)\n"
      ],
      "metadata": {
        "colab": {
          "base_uri": "https://localhost:8080/"
        },
        "id": "JYVFcux6sPlJ",
        "outputId": "68bcd983-775b-4885-ae5c-37eb8ff3b588"
      },
      "execution_count": 12,
      "outputs": [
        {
          "output_type": "stream",
          "name": "stdout",
          "text": [
            "The sum of all even numbers between 1 and 50 is: 650\n"
          ]
        }
      ]
    },
    {
      "cell_type": "code",
      "source": [
        "#14. Write a program to reverse a string using a while loop0\n",
        "string = input(\"Enter a string: \")\n",
        "\n",
        "reversed_string = \"\"\n",
        "index = len(string) - 1\n",
        "\n",
        "while index >= 0:\n",
        "    reversed_string += string[index]\n",
        "    index -= 1\n",
        "\n",
        "print(\"Reversed string:\", reversed_string)\n"
      ],
      "metadata": {
        "id": "8hdzJA5VtKEN"
      },
      "execution_count": null,
      "outputs": []
    },
    {
      "cell_type": "code",
      "source": [
        "#15. Write a Python program to calculate the factorial of a number provided by the user using a while loop.\n",
        "number = int(input(\"Enter a number: \"))\n",
        "\n",
        "factorial = 1\n",
        "i = 1\n",
        "\n",
        "while i <= number:\n",
        "    factorial *= i\n",
        "    i += 1\n",
        "\n",
        "print(\"The factorial of\", number, \"is:\", factorial)\n"
      ],
      "metadata": {
        "id": "b1gEIv7JtS_j"
      },
      "execution_count": null,
      "outputs": []
    }
  ]
}